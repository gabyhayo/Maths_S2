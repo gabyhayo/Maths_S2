{
 "cells": [
  {
   "cell_type": "markdown",
   "id": "701b476a",
   "metadata": {},
   "source": [
    "lien vers le projet overleaf : https://www.overleaf.com/5941482485srsmdsjvhkch"
   ]
  },
  {
   "cell_type": "markdown",
   "id": "4a0e6c99",
   "metadata": {},
   "source": [
    "### Question1\n",
    "On a, en notant la facture d'électricité $ f_{electricity}$ \n",
    "$$ \n",
    "f_{electricity} = \\sum\\limits_{i=0}^Nc_iE_i =  \\sum\\limits_{i=0}^Nc_iP_i\\Delta t_i=  \\sum\\limits_{i=0}^Nc_iP_i\\Delta t=  \\Delta t\\sum\\limits_{i=0}^Nc_iP_i\n",
    "$$\n",
    "car on a dans le cadre de convecteur électrique $E_{electricity} = E_{heat}$, en effet le rendement est de 1.\\newline\n",
    "Donc on a bien \n",
    "$$\n",
    "\\boxed{f_{electricity}=  \\Delta t\\sum\\limits_{i=0}^Nc_iP_i}\n",
    "$$"
   ]
  },
  {
   "cell_type": "markdown",
   "id": "5e318b37",
   "metadata": {},
   "source": [
    "### Question2"
   ]
  },
  {
   "cell_type": "markdown",
   "id": "9505198c",
   "metadata": {},
   "source": [
    "### Question 3"
   ]
  },
  {
   "cell_type": "markdown",
   "id": "e3d931a3",
   "metadata": {},
   "source": [
    "### Question 4"
   ]
  },
  {
   "cell_type": "markdown",
   "id": "67af8dc4",
   "metadata": {},
   "source": [
    "## Partie 2"
   ]
  },
  {
   "cell_type": "markdown",
   "id": "69de8b2f",
   "metadata": {},
   "source": [
    "### Question 1"
   ]
  },
  {
   "cell_type": "code",
   "execution_count": 6,
   "id": "d9bc53e0",
   "metadata": {},
   "outputs": [],
   "source": [
    "from casadi import *\n",
    "import numpy as np\n",
    "import matplotlib.pyplot as plt"
   ]
  },
  {
   "cell_type": "markdown",
   "id": "45df0fcf",
   "metadata": {},
   "source": [
    "## Constantes"
   ]
  },
  {
   "cell_type": "code",
   "execution_count": 7,
   "id": "93d4a328",
   "metadata": {},
   "outputs": [],
   "source": [
    "t0 = 23 # heure de début de calcul\n",
    "deltaT= 0.5 # espacement entre les différents temps de calcul\n",
    "\n",
    "T_m = 18 # température minimale\n",
    "T_M = 30 # température maximale\n",
    "T_in = 18\n",
    "\n",
    "P_M = 5000 #puissance maximale enW\n",
    "\n",
    "ccr = 1\n",
    "cpl = 7/4\n",
    "h = 0.05 # en h-1\n",
    "k = 0.01 # en h-1\n",
    "b = 1/500 # en CW-1h-1\n"
   ]
  },
  {
   "cell_type": "markdown",
   "id": "3c8f5762",
   "metadata": {},
   "source": [
    "## Construction des vecteurs utiles"
   ]
  },
  {
   "cell_type": "code",
   "execution_count": 8,
   "id": "42fc7962",
   "metadata": {},
   "outputs": [],
   "source": [
    "### Construction du vecteur coût ###\n",
    "\n",
    "c = np.array([cpl for i in range(48)]) # on met par défaut le tarif d'heure pleine sur les 48 instants de calcul\n",
    "\n",
    "# on mets maintenant le tarif d'heures creuses à la place pour les heures indiquées\n",
    "for i in range (2,2+6*2):\n",
    "    c[i] = ccr \n",
    "for i in range (26,30):\n",
    "    c[i] = ccr\n",
    "    \n",
    "c = np.concatenate((c,np.zeros(48))) # on ajoute 48 fois zéros \n",
    "\n",
    "### Construction du vecteur des indices des instants où il y a les occupants ###\n",
    "I_occ = np.array([16,17,18,19,38,39,40,41,42,43,44,45,46,47]) \n",
    "\n",
    "### Construction du vecteur temps ###\n",
    "t = np.array([(t0+i*deltaT)%24 for i in range (48)])\n",
    "\n",
    "### Construction du vecteur température exérieure ###\n",
    "Text = np.array([4+8*np.exp(-(t[i]-12)**2/40) for i in range (48)])\n"
   ]
  },
  {
   "cell_type": "code",
   "execution_count": 9,
   "id": "beb3158e",
   "metadata": {},
   "outputs": [],
   "source": [
    "def Temp(P) :\n",
    "    \"\"\"\n",
    "    entrée : puissance\n",
    "    sortie : température\n",
    "    \"\"\"\n",
    "    T = np.zeros(48)\n",
    "    T[0] = T_in\n",
    "    for i in range (1,48) :\n",
    "        T[i]= np.exp(-(k+h)*deltaT)*T[i-1]+(1-np.exp(-(k+h)*deltaT))/(k+h)*(b*P[i-1]+h*Text[i-1])\n",
    "    return T\n",
    "\n",
    "def f(x) :\n",
    "    return deltaT*np.dot(c,x)"
   ]
  },
  {
   "cell_type": "markdown",
   "id": "2011c16f",
   "metadata": {},
   "source": [
    "## Optimisation grâce à la librairie Casadi"
   ]
  },
  {
   "cell_type": "code",
   "execution_count": 11,
   "id": "adc7e739",
   "metadata": {},
   "outputs": [
    {
     "name": "stderr",
     "output_type": "stream",
     "text": [
      "CasADi - 2022-04-13 15:01:25 WARNING(\".../casadi/core/plugin_interface.hpp:322: Assertion \"handle!=nullptr\" failed:\n",
      "PluginInterface::load_plugin: Cannot load shared library 'libcasadi_nlpsol_ipopt.dylib': \n",
      "   (\n",
      "    Searched directories: 1. casadipath from GlobalOptions\n",
      "                          2. CASADIPATH env var\n",
      "                          3. PATH env var (Windows)\n",
      "                          4. LD_LIBRARY_PATH env var (Linux)\n",
      "                          5. DYLD_LIBRARY_PATH env var (osx)\n",
      "    A library may be 'not found' even if the file exists:\n",
      "          * library is not compatible (different compiler/bitness)\n",
      "          * the dependencies are not found\n",
      "   )\n",
      "  Tried '/opt/miniconda3/lib/python3.9/site-packages/casadi' :\n",
      "    Error code: dlopen(/opt/miniconda3/lib/python3.9/site-packages/casadi/libcasadi_nlpsol_ipopt.dylib, 5): image not found\n",
      "  Tried '' :\n",
      "    Error code: dlopen(libcasadi_nlpsol_ipopt.dylib, 5): image not found\n",
      "  Tried '.' :\n",
      "    Error code: dlopen(./libcasadi_nlpsol_ipopt.dylib, 5): image not found\") [.../casadi/core/plugin_interface.hpp:171]\n"
     ]
    },
    {
     "ename": "RuntimeError",
     "evalue": "Error in Opti::solve [OptiNode] at .../casadi/core/optistack.cpp:159:\n.../casadi/core/plugin_interface.hpp:417: Plugin 'ipopt' is not found.",
     "output_type": "error",
     "traceback": [
      "\u001b[0;31m---------------------------------------------------------------------------\u001b[0m",
      "\u001b[0;31mRuntimeError\u001b[0m                              Traceback (most recent call last)",
      "\u001b[0;32m<ipython-input-11-fed42405046a>\u001b[0m in \u001b[0;36m<module>\u001b[0;34m\u001b[0m\n\u001b[1;32m     24\u001b[0m \u001b[0mopti\u001b[0m\u001b[0;34m.\u001b[0m\u001b[0mset_initial\u001b[0m\u001b[0;34m(\u001b[0m\u001b[0mx\u001b[0m\u001b[0;34m,\u001b[0m\u001b[0mx0\u001b[0m\u001b[0;34m)\u001b[0m\u001b[0;34m\u001b[0m\u001b[0;34m\u001b[0m\u001b[0m\n\u001b[1;32m     25\u001b[0m \u001b[0mopti\u001b[0m\u001b[0;34m.\u001b[0m\u001b[0msolver\u001b[0m\u001b[0;34m(\u001b[0m\u001b[0;34m'ipopt'\u001b[0m\u001b[0;34m)\u001b[0m\u001b[0;34m\u001b[0m\u001b[0;34m\u001b[0m\u001b[0m\n\u001b[0;32m---> 26\u001b[0;31m \u001b[0msol\u001b[0m \u001b[0;34m=\u001b[0m \u001b[0mopti\u001b[0m\u001b[0;34m.\u001b[0m\u001b[0msolve\u001b[0m\u001b[0;34m(\u001b[0m\u001b[0;34m)\u001b[0m\u001b[0;34m\u001b[0m\u001b[0;34m\u001b[0m\u001b[0m\n\u001b[0m\u001b[1;32m     27\u001b[0m \u001b[0;31m#print(sol.success)\u001b[0m\u001b[0;34m\u001b[0m\u001b[0;34m\u001b[0m\u001b[0;34m\u001b[0m\u001b[0m\n\u001b[1;32m     28\u001b[0m \u001b[0mX\u001b[0m\u001b[0;34m=\u001b[0m\u001b[0msol\u001b[0m\u001b[0;34m.\u001b[0m\u001b[0mvalue\u001b[0m\u001b[0;34m(\u001b[0m\u001b[0mx\u001b[0m\u001b[0;34m)\u001b[0m\u001b[0;34m\u001b[0m\u001b[0;34m\u001b[0m\u001b[0m\n",
      "\u001b[0;32m/opt/miniconda3/lib/python3.9/site-packages/casadi/casadi.py\u001b[0m in \u001b[0;36msolve\u001b[0;34m(self, *args)\u001b[0m\n\u001b[1;32m  16044\u001b[0m \u001b[0;34m\u001b[0m\u001b[0m\n\u001b[1;32m  16045\u001b[0m         \"\"\"\n\u001b[0;32m> 16046\u001b[0;31m         \u001b[0;32mreturn\u001b[0m \u001b[0m_casadi\u001b[0m\u001b[0;34m.\u001b[0m\u001b[0mOpti_solve\u001b[0m\u001b[0;34m(\u001b[0m\u001b[0mself\u001b[0m\u001b[0;34m,\u001b[0m \u001b[0;34m*\u001b[0m\u001b[0margs\u001b[0m\u001b[0;34m)\u001b[0m\u001b[0;34m\u001b[0m\u001b[0;34m\u001b[0m\u001b[0m\n\u001b[0m\u001b[1;32m  16047\u001b[0m \u001b[0;34m\u001b[0m\u001b[0m\n\u001b[1;32m  16048\u001b[0m     \u001b[0;32mdef\u001b[0m \u001b[0msolve_limited\u001b[0m\u001b[0;34m(\u001b[0m\u001b[0mself\u001b[0m\u001b[0;34m,\u001b[0m \u001b[0;34m*\u001b[0m\u001b[0margs\u001b[0m\u001b[0;34m)\u001b[0m \u001b[0;34m->\u001b[0m \u001b[0;34m\"casadi::OptiSol\"\u001b[0m\u001b[0;34m:\u001b[0m\u001b[0;34m\u001b[0m\u001b[0;34m\u001b[0m\u001b[0m\n",
      "\u001b[0;31mRuntimeError\u001b[0m: Error in Opti::solve [OptiNode] at .../casadi/core/optistack.cpp:159:\n.../casadi/core/plugin_interface.hpp:417: Plugin 'ipopt' is not found."
     ]
    }
   ],
   "source": [
    "opti = casadi.Opti();\n",
    "\n",
    "## Vecteur à optimiser ##\n",
    "n = 96 \n",
    "x = opti.variable(n)\n",
    "x0 = np.concatenate((np.array([25. for i in range (48)]),np.array([2500. for i in range(48)])))\n",
    "\n",
    "## Fonction à optimiser ##\n",
    "f = 0\n",
    "for i in range (n-1):\n",
    "    f += deltaT*c[i]*x[i]\n",
    "opti.minimize(f)\n",
    "\n",
    "## Contraintes ##\n",
    "for i in range (48):\n",
    "    opti.subject_to(-x[i]<=0)\n",
    "    opti.subject_to(x[i]-P_M<=0)\n",
    "for i in I_occ :\n",
    "    opti.subject_to(T_m-x[48+i]<=0)\n",
    "    opti.subject_to(-T_M+x[48+i]<=0)\n",
    "opti.subject_to(x[47]==0)\n",
    "opti.subject_to(x[48]-T_in==0)\n",
    "for i in range (1,48) :\n",
    "    opti.subject_to(\n",
    "        x[48+i]-(np.exp(-(k+h)*deltaT)*x[48+i-1]+(1-np.exp(-(k+h)*deltaT))/(k+h)*(b*x[i-1]+h*Text[i-1]))==0)\n",
    "\n",
    "    \n",
    "\n",
    "opti.set_initial(x,x0)\n",
    "opti.solver('ipopt')\n",
    "sol = opti.solve()\n",
    "X=sol.value(x)"
   ]
  },
  {
   "cell_type": "markdown",
   "id": "d5c05623",
   "metadata": {},
   "source": [
    "## Tracés des profils de température et de puissance"
   ]
  },
  {
   "cell_type": "code",
   "execution_count": 107,
   "id": "0e4a3ad5",
   "metadata": {},
   "outputs": [
    {
     "data": {
      "image/png": "[encoded data removed]",
      "text/plain": [
       "<Figure size 432x288 with 1 Axes>"
      ]
     },
     "metadata": {
      "needs_background": "light"
     },
     "output_type": "display_data"
    }
   ],
   "source": [
    "### Profil de température ###\n",
    "\n",
    "plt.plot(range(48),X[48:])\n",
    "plt.plot(range(48), np.array([T_m for i in range (48)]),'r', label = 'T minimale si habitant')\n",
    "#plt.plot(range(48),np.array([T_M for i in range (48)]),'r')\n",
    "plt.plot(np.array([16 for i in range(48)]), np.linspace(14,22,48),'g')\n",
    "plt.plot(np.array([19 for i in range(48)]), np.linspace(14,22,48),'g')\n",
    "plt.plot(np.array([38 for i in range(48)]), np.linspace(14,22,48),'g')\n",
    "plt.plot(np.array([47 for i in range(48)]), np.linspace(14,22,48),'g')\n",
    "plt.xlabel('horaire (h)')\n",
    "plt.ylabel('température de l habitat (°C)')\n",
    "plt.legend(loc='upper left')\n",
    "plt.title('profil de température')\n",
    "plt.show()"
   ]
  },
  {
   "cell_type": "code",
   "execution_count": 108,
   "id": "47091577",
   "metadata": {},
   "outputs": [
    {
     "data": {
      "image/png": "[encoded data removed]",
      "text/plain": [
       "<Figure size 432x288 with 1 Axes>"
      ]
     },
     "metadata": {
      "needs_background": "light"
     },
     "output_type": "display_data"
    }
   ],
   "source": [
    "### Profil de puissance ###\n",
    "plt.plot(range(48),X[:48])\n",
    "plt.plot(range(48), np.array([P_M for i in range (48)]),'r', label = 'Pmax')\n",
    "#plt.plot(range(48),np.array([T_M for i in range (48)]),'r')\n",
    "plt.plot(np.array([2 for i in range(48)]), np.linspace(0,5000,48),'g')\n",
    "plt.plot(np.array([14 for i in range(48)]), np.linspace(0,5000,48),'g')\n",
    "plt.plot(np.array([26 for i in range(48)]), np.linspace(0,5000,48),'g')\n",
    "plt.plot(np.array([30 for i in range(48)]), np.linspace(0,5000,48),'g')\n",
    "plt.legend(loc = 'lower right')\n",
    "plt.title('profil de puissance')\n",
    "plt.show()"
   ]
  },
  {
   "cell_type": "markdown",
   "id": "d4b6771e",
   "metadata": {},
   "source": [
    "### Question 8"
   ]
  },
  {
   "cell_type": "code",
   "execution_count": 122,
   "id": "0235d668",
   "metadata": {},
   "outputs": [],
   "source": [
    "t0 = 23\n",
    "deltaT= 0.5\n",
    "T_m1 = 18\n",
    "T_M1 = 30\n",
    "T_m2 = 20\n",
    "T_M2 = 30\n",
    "T_in = 18\n",
    "ccr = 1\n",
    "cpl = 7/4\n",
    "h = 0.05 #h-1\n",
    "k = 0.01 #h-1\n",
    "b = 1/500 #CW-1h-1\n",
    "P_M = 5000 #W\n",
    "c = np.array([cpl for i in range(48)])\n",
    "for i in range (2,2+6*2):\n",
    "    c[i] = ccr\n",
    "for i in range (26,30):\n",
    "    c[i] = ccr\n",
    "c = np.concatenate((c,c))\n",
    "c= np.concatenate((c,np.zeros(48*2)))\n",
    "I_occ = np.array([16,17,18,19,38,39,40,41,42,43,44,45,46,47])\n",
    "t = np.array([(t0+i*deltaT)%24 for i in range (48)])\n",
    "Text = np.array([4+8*np.exp(-(t[i]-12)**2/40) for i in range (48)])"
   ]
  },
  {
   "cell_type": "code",
   "execution_count": 126,
   "id": "d37e1042",
   "metadata": {},
   "outputs": [
    {
     "name": "stdout",
     "output_type": "stream",
     "text": [
      "This is Ipopt version 3.12.3, running with linear solver mumps.\n",
      "NOTE: Other linear solvers might be more efficient (see Ipopt documentation).\n",
      "\n",
      "Number of nonzeros in equality constraint Jacobian...:      380\n",
      "Number of nonzeros in inequality constraint Jacobian.:      248\n",
      "Number of nonzeros in Lagrangian Hessian.............:        0\n",
      "\n",
      "Total number of variables............................:      192\n",
      "                     variables with only lower bounds:        0\n",
      "                variables with lower and upper bounds:        0\n",
      "                     variables with only upper bounds:        0\n",
      "Total number of equality constraints.................:       98\n",
      "Total number of inequality constraints...............:      248\n",
      "        inequality constraints with only lower bounds:        0\n",
      "   inequality constraints with lower and upper bounds:        0\n",
      "        inequality constraints with only upper bounds:      248\n",
      "\n",
      "iter    objective    inf_pr   inf_du lg(mu)  ||d||  lg(rg) alpha_du alpha_pr  ls\n",
      "   0 1.8000000e+003 2.48e+003 2.92e-001  -1.0 0.00e+000    -  0.00e+000 0.00e+000   0\n",
      "   1 1.5575208e+004 2.99e+001 1.48e+003  -1.0 2.49e+003    -  6.59e-004 9.88e-001h  1\n",
      "   2 7.2404392e+003 8.31e+000 4.12e+002  -1.0 2.49e+002    -  7.93e-001 7.22e-001f  1\n",
      "   3 7.0929427e+003 8.12e+000 4.03e+002  -1.0 1.46e+002    -  9.61e-001 2.33e-002f  1\n",
      "   4 7.1906229e+003 8.06e+000 8.35e+002  -1.0 1.04e+003    -  1.13e-001 7.15e-003h  1\n",
      "   5 8.2769419e+003 6.88e+000 5.66e+002  -1.0 1.96e+003    -  7.90e-003 1.46e-001h  1\n",
      "   6 8.6961571e+003 6.37e+000 5.24e+002  -1.0 2.25e+003    -  1.09e-001 7.42e-002h  1\n",
      "   7 9.0633709e+003 5.95e+000 4.89e+002  -1.0 6.65e+003    -  7.72e-002 6.60e-002h  1\n",
      "   8 9.1318129e+003 5.91e+000 4.82e+002  -1.0 1.84e+004    -  5.28e-002 7.06e-003h  1\n",
      "   9 9.6808792e+003 5.60e+000 4.55e+002  -1.0 1.96e+004    -  7.07e-002 5.29e-002h  1\n",
      "iter    objective    inf_pr   inf_du lg(mu)  ||d||  lg(rg) alpha_du alpha_pr  ls\n",
      "  10 1.0284637e+004 5.27e+000 4.29e+002  -1.0 2.00e+004    -  3.99e-002 5.85e-002h  1\n",
      "  11 1.1069643e+004 4.85e+000 3.96e+002  -1.0 1.41e+004    -  4.34e-002 7.97e-002h  1\n",
      "  12 1.1560912e+004 4.58e+000 3.74e+002  -1.0 8.33e+003    -  6.94e-002 5.49e-002h  1\n",
      "  13 1.2070170e+004 4.31e+000 3.50e+002  -1.0 7.20e+003    -  1.12e-001 6.04e-002h  1\n",
      "  14 1.3231350e+004 3.61e+000 2.95e+002  -1.0 1.18e+004    -  2.41e-003 1.62e-001h  1\n",
      "  15 1.3291363e+004 3.58e+000 2.92e+002  -1.0 1.26e+004    -  2.11e-001 8.85e-003h  1\n",
      "  16 1.5223255e+004 2.52e+000 2.06e+002  -1.0 5.97e+003    -  6.06e-002 2.95e-001h  1\n",
      "  17 1.6341760e+004 1.87e+000 1.54e+002  -1.0 5.72e+003    -  5.45e-002 2.58e-001h  1\n",
      "  18 1.6430771e+004 1.82e+000 1.49e+002  -1.0 4.80e+003    -  2.36e-001 2.70e-002h  1\n",
      "  19 1.6823146e+004 1.59e+000 1.30e+002  -1.0 4.59e+003    -  1.73e-001 1.25e-001h  1\n",
      "iter    objective    inf_pr   inf_du lg(mu)  ||d||  lg(rg) alpha_du alpha_pr  ls\n",
      "  20 1.7316250e+004 1.31e+000 1.07e+002  -1.0 3.37e+003    -  2.59e-001 1.77e-001h  1\n",
      "  21 1.8519287e+004 6.29e-001 5.21e+001  -1.0 2.78e+003    -  2.61e-001 5.20e-001h  1\n",
      "  22 1.8697171e+004 5.25e-001 4.32e+001  -1.0 2.07e+003    -  7.04e-001 1.66e-001h  1\n",
      "  23 1.9035209e+004 3.33e-001 2.74e+001  -1.0 1.79e+003    -  1.57e-001 3.66e-001h  1\n",
      "  24 1.9596493e+004 3.33e-003 3.05e-001  -1.0 1.14e+003    -  1.00e+000 9.90e-001h  1\n",
      "  25 1.9594635e+004 3.23e-005 5.79e+000  -1.7 5.09e+001    -  1.00e+000 9.90e-001h  1\n",
      "  26 1.9594624e+004 7.11e-015 2.00e-007  -1.7 1.58e+000    -  1.00e+000 1.00e+000h  1\n",
      "  27 1.9592763e+004 7.11e-015 1.10e+002  -3.8 8.62e+000    -  1.00e+000 9.98e-001f  1\n",
      "  28 1.9592759e+004 7.11e-015 1.50e-009  -3.8 8.58e-002    -  1.00e+000 1.00e+000f  1\n",
      "  29 1.9592745e+004 7.11e-015 1.84e-011  -5.7 6.40e-002    -  1.00e+000 1.00e+000f  1\n",
      "iter    objective    inf_pr   inf_du lg(mu)  ||d||  lg(rg) alpha_du alpha_pr  ls\n",
      "  30 1.9592744e+004 7.11e-015 2.15e-013  -8.6 7.92e-004    -  1.00e+000 1.00e+000f  1\n",
      "\n",
      "Number of Iterations....: 30\n",
      "\n",
      "                                   (scaled)                 (unscaled)\n",
      "Objective...............:  1.9592744466324584e+004   1.9592744466324584e+004\n",
      "Dual infeasibility......:  2.1450787543164979e-013   2.1450787543164979e-013\n",
      "Constraint violation....:  7.1054273576010019e-015   7.1054273576010019e-015\n",
      "Complementarity.........:  2.5072938799484694e-009   2.5072938799484694e-009\n",
      "Overall NLP error.......:  2.5072938799484694e-009   2.5072938799484694e-009\n",
      "\n",
      "\n",
      "Number of objective function evaluations             = 31\n",
      "Number of objective gradient evaluations             = 31\n",
      "Number of equality constraint evaluations            = 31\n",
      "Number of inequality constraint evaluations          = 31\n",
      "Number of equality constraint Jacobian evaluations   = 31\n",
      "Number of inequality constraint Jacobian evaluations = 31\n",
      "Number of Lagrangian Hessian evaluations             = 30\n",
      "Total CPU secs in IPOPT (w/o function evaluations)   =      0.125\n",
      "Total CPU secs in NLP function evaluations           =      0.000\n",
      "\n",
      "EXIT: Optimal Solution Found.\n",
      "      solver  :   t_proc      (avg)   t_wall      (avg)    n_eval\n",
      "       nlp_f  |        0 (       0)        0 (       0)        31\n",
      "       nlp_g  |        0 (       0)        0 (       0)        31\n",
      "  nlp_grad_f  |        0 (       0)        0 (       0)        32\n",
      "  nlp_hess_l  |        0 (       0)        0 (       0)        30\n",
      "   nlp_jac_g  |        0 (       0)        0 (       0)        32\n",
      "       total  | 125.00ms (125.00ms) 125.03ms (125.03ms)         1\n"
     ]
    }
   ],
   "source": [
    "opti = casadi.Opti();\n",
    "n = 96*2\n",
    "x = opti.variable(n)\n",
    "f = 0\n",
    "for i in range (n-1):\n",
    "    f += deltaT*c[i]*x[i]\n",
    "opti.minimize(f)\n",
    "for i in range (96):\n",
    "    opti.subject_to(-x[i]<=0)\n",
    "    opti.subject_to(x[i]-P_M<=0)\n",
    "for i in I_occ :\n",
    "    opti.subject_to(T_m1-x[96+i]<=0)\n",
    "    opti.subject_to(-T_M1+x[96+i]<=0)\n",
    "    opti.subject_to(T_m2-x[144+i]<=0)\n",
    "    opti.subject_to(-T_M2+x[144+i]<=0)\n",
    "opti.subject_to(x[47]==0)\n",
    "opti.subject_to(x[95]==0)\n",
    "opti.subject_to(x[96]-T_in==0)\n",
    "opti.subject_to(x[144]-T_in==0)\n",
    "for i in range (1,48) :\n",
    "    opti.subject_to(\n",
    "        x[96+i]-(np.exp(-(k+h+h)*deltaT)*x[96+i-1]+(1-np.exp(-(k+h+h)*deltaT))/(k+h+h)*(b*x[i-1]+h*Text[i-1]+h*x[144+i]))==0)\n",
    "    opti.subject_to(\n",
    "        x[144+i]-(np.exp(-(k+h+h)*deltaT)*x[144+i-1]+(1-np.exp(-(k+h+h)*deltaT))/(k+h+h)*(b*x[48+i-1]+h*Text[i-1]+h*x[96+i]))==0)\n",
    "x0 = np.concatenate((np.array([25. for i in range (96)]),np.array([2500. for i in range(96)])))\n",
    "opti.set_initial(x,x0)\n",
    "opti.solver('ipopt')\n",
    "sol = opti.solve()\n",
    "#print(sol.success)\n",
    "X=sol.value(x)"
   ]
  },
  {
   "cell_type": "code",
   "execution_count": 127,
   "id": "a4649fa2",
   "metadata": {},
   "outputs": [
    {
     "data": {
      "text/plain": [
       "[<matplotlib.lines.Line2D at 0x1ed90ecefa0>]"
      ]
     },
     "execution_count": 127,
     "metadata": {},
     "output_type": "execute_result"
    },
    {
     "data": {
      "image/png": "[encoded data removed]",
      "text/plain": [
       "<Figure size 432x288 with 1 Axes>"
      ]
     },
     "metadata": {
      "needs_background": "light"
     },
     "output_type": "display_data"
    }
   ],
   "source": [
    "plt.plot(range(48),X[96:144])"
   ]
  },
  {
   "cell_type": "code",
   "execution_count": 128,
   "id": "a0dbbfdd",
   "metadata": {},
   "outputs": [
    {
     "data": {
      "text/plain": [
       "[<matplotlib.lines.Line2D at 0x1ed8e910bb0>]"
      ]
     },
     "execution_count": 128,
     "metadata": {},
     "output_type": "execute_result"
    },
    {
     "data": {
      "image/png": "[encoded data removed]",
      "text/plain": [
       "<Figure size 432x288 with 1 Axes>"
      ]
     },
     "metadata": {
      "needs_background": "light"
     },
     "output_type": "display_data"
    }
   ],
   "source": [
    "plt.plot(range(48),X[144:])"
   ]
  },
  {
   "cell_type": "code",
   "execution_count": null,
   "id": "bb2045a9",
   "metadata": {},
   "outputs": [],
   "source": []
  }
 ],
 "metadata": {
  "kernelspec": {
   "display_name": "Python 3",
   "language": "python",
   "name": "python3"
  },
  "language_info": {
   "codemirror_mode": {
    "name": "ipython",
    "version": 3
   },
   "file_extension": ".py",
   "mimetype": "text/x-python",
   "name": "python",
   "nbconvert_exporter": "python",
   "pygments_lexer": "ipython3",
   "version": "3.9.5"
  }
 },
 "nbformat": 4,
 "nbformat_minor": 5
}
