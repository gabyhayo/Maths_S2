{
 "cells": [
  {
   "cell_type": "markdown",
   "id": "4a0e6c99",
   "metadata": {},
   "source": [
    "### Question1\n",
    "On a, en notant la facture d'électricité $ f_{electricity}$ \n",
    "$$ \n",
    "f_{electricity} = \\sum\\limits_{i=0}^Nc_iE_i =  \\sum\\limits_{i=0}^Nc_iP_i\\Delta t_i=  \\sum\\limits_{i=0}^Nc_iP_i\\Delta t=  \\Delta t\\sum\\limits_{i=0}^Nc_iP_i\n",
    "$$\n",
    "car on a dans le cadre de convecteur électrique $E_{electricity} = E_{heat}$, en effet le rendement est de 1.\\newline\n",
    "Donc on a bien \n",
    "$$\n",
    "\\boxed{f_{electricity}=  \\Delta t\\sum\\limits_{i=0}^Nc_iP_i}\n",
    "$$"
   ]
  },
  {
   "cell_type": "code",
   "execution_count": null,
   "id": "50006e7d",
   "metadata": {},
   "outputs": [],
   "source": []
  }
 ],
 "metadata": {
  "kernelspec": {
   "display_name": "Python 3 (ipykernel)",
   "language": "python",
   "name": "python3"
  },
  "language_info": {
   "codemirror_mode": {
    "name": "ipython",
    "version": 3
   },
   "file_extension": ".py",
   "mimetype": "text/x-python",
   "name": "python",
   "nbconvert_exporter": "python",
   "pygments_lexer": "ipython3",
   "version": "3.9.5"
  }
 },
 "nbformat": 4,
 "nbformat_minor": 5
}
